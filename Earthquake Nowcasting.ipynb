{
 "cells": [
  {
   "cell_type": "code",
   "execution_count": 127,
   "id": "20f8167f",
   "metadata": {},
   "outputs": [],
   "source": [
    "import numpy as np \n",
    "import pandas as pd \n",
    "import matplotlib.pyplot as plt\n",
    "from scipy import stats\n",
    "import math"
   ]
  },
  {
   "cell_type": "code",
   "execution_count": 132,
   "id": "a4477e7a",
   "metadata": {},
   "outputs": [
    {
     "data": {
      "image/png": "[encoded data removed]",
      "text/plain": [
       "<Figure size 432x288 with 1 Axes>"
      ]
     },
     "metadata": {
      "needs_background": "light"
     },
     "output_type": "display_data"
    }
   ],
   "source": [
    "earthquake_data = pd.read_csv('E:\\Courses\\Year 3 Msc. Maths + BE EEE\\Semester-2\\Applied Statistical Methods\\Assignment\\Dataset_Taiwan.csv')\n",
    "\n",
    "magnitudes = list(earthquake_data[\"Mag\"])\n",
    "x = [round(i,1) for i in np.arange(8, 4, -0.1)]\n",
    "magGreaterThanM = dict.fromkeys(x, 0)\n",
    "for i in x:\n",
    "    after = magnitudes.count(i)\n",
    "    magGreaterThanM[i] += after\n",
    "    if i<6:\n",
    "        magGreaterThanM[i] += magGreaterThanM[round(i+0.1, 2)]\n",
    "\n",
    "for i in magGreaterThanM.keys():\n",
    "    if magGreaterThanM[i] > 0:\n",
    "        magGreaterThanM[i] = math.log10(magGreaterThanM[i])\n",
    "for i in magGreaterThanM.keys():\n",
    "    if i!=8 and magGreaterThanM[i]<=magGreaterThanM[round(i+0.1, 2)]:\n",
    "        magGreaterThanM[i] = magGreaterThanM[round(i+0.1, 2)]\n",
    "plt.scatter(x, magGreaterThanM.values())\n",
    "plt.ylabel(\"log10 of no. of earthquake with mag. >= M\")\n",
    "plt.xlabel(\"Magnitude (M)\")\n",
    "plt.show()"
   ]
  },
  {
   "cell_type": "code",
   "execution_count": 120,
   "id": "2d11f54e",
   "metadata": {},
   "outputs": [],
   "source": [
    "frequency = []\n",
    "interCount = 0\n",
    "ind = []\n",
    "for i in range(len(magnitudes)):\n",
    "    if interCount == 0 and magnitudes[i] < 6:\n",
    "        interCount += 1\n",
    "    elif interCount > 0:\n",
    "        if magnitudes[i] < 6:\n",
    "            interCount += 1\n",
    "        else:\n",
    "            frequency.append(interCount)\n",
    "            interCount = 0\n",
    "            ind.append(i)\n",
    "x = frequency.pop(0)\n"
   ]
  },
  {
   "cell_type": "code",
   "execution_count": 121,
   "id": "7c3b8a3d",
   "metadata": {},
   "outputs": [
    {
     "data": {
      "image/png": "[encoded data removed]",
      "text/plain": [
       "<Figure size 432x288 with 1 Axes>"
      ]
     },
     "metadata": {
      "needs_background": "light"
     },
     "output_type": "display_data"
    }
   ],
   "source": [
    "cdfs = []\n",
    "for i in range(350):\n",
    "    cdfs.append(frequency.count(i)/len(frequency))\n",
    "    if(i>0):\n",
    "        cdfs[i] += cdfs[i-1]\n",
    "values = list(range(350))\n",
    "plt.plot(values, cdfs)\n",
    "plt.ylabel(\"cdf of interevent count\")\n",
    "plt.xlabel(\"interevent count\")\n",
    "plt.show()S\n"
   ]
  },
  {
   "cell_type": "code",
   "execution_count": 122,
   "id": "777c0052",
   "metadata": {},
   "outputs": [],
   "source": [
    "def distance(lat1, long1, lat2, long2):\n",
    "    lat1 = math.radians(lat1)\n",
    "    lat2 = math.radians(lat2)\n",
    "    long1 = math.radians(long1)\n",
    "    long2 = math.radians(long2)\n",
    "    dist = 6371.01 * math.acos(math.sin(lat1)*math.sin(lat2) + math.cos(lat1)*math.cos(lat2)*math.cos(long2 - long1))\n",
    "    return dist"
   ]
  },
  {
   "cell_type": "code",
   "execution_count": 123,
   "id": "5e7ca927",
   "metadata": {},
   "outputs": [],
   "source": [
    "def findLastCount(lati, longi, earthquake_data):\n",
    "    data = list()\n",
    "    [date, time, lat, long, depth, mag] = earthquake_data.items()\n",
    "    for i in range(len(lat[1])):\n",
    "        if distance(lati, longi, lat[1][i], long[1][i]) < 200:\n",
    "            data.append(mag[1][i])\n",
    "    lastCount = 0\n",
    "    for i in range(len(data)):\n",
    "        if data[i] > 6:\n",
    "            lastCount = 0\n",
    "        else:\n",
    "            lastCount += 1\n",
    "    return lastCount"
   ]
  },
  {
   "cell_type": "code",
   "execution_count": 124,
   "id": "e9b809a2",
   "metadata": {},
   "outputs": [
    {
     "name": "stdout",
     "output_type": "stream",
     "text": [
      "48\n",
      "61\n"
     ]
    }
   ],
   "source": [
    "lastCount = findLastCount(25.0330, 121.5654, earthquake_data)\n",
    "print(lastCount)\n",
    "lastCount = findLastCount(22.9997, 120.2270, earthquake_data)\n",
    "print(lastCount)\n"
   ]
  },
  {
   "cell_type": "code",
   "execution_count": null,
   "id": "b64162ac",
   "metadata": {},
   "outputs": [],
   "source": []
  }
 ],
 "metadata": {
  "kernelspec": {
   "display_name": "Python 3",
   "language": "python",
   "name": "python3"
  },
  "language_info": {
   "codemirror_mode": {
    "name": "ipython",
    "version": 3
   },
   "file_extension": ".py",
   "mimetype": "text/x-python",
   "name": "python",
   "nbconvert_exporter": "python",
   "pygments_lexer": "ipython3",
   "version": "3.8.5"
  }
 },
 "nbformat": 4,
 "nbformat_minor": 5
}
